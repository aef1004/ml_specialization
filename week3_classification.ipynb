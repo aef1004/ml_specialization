{
 "cells": [
  {
   "cell_type": "markdown",
   "id": "43e2f10f-56cd-461c-b9b4-e5e6a3bb9c8d",
   "metadata": {},
   "source": [
    "# Week 3 Classification with Logistic Regression\n",
    "\n",
    "- classification with logistic regression\n",
    "- decision boundary\n"
   ]
  },
  {
   "cell_type": "markdown",
   "id": "ec6493a7-9fa0-4bb7-928e-df4e6c6050ad",
   "metadata": {},
   "source": [
    "The decision boundary is where $$f_{\\mathbf{w},b}(\\mathbf{x}^{(i)}) = g(z) = 0$$ \n",
    "\n",
    "For a logistic regression, the model is represented as \n",
    "\n",
    "  $$f_{\\mathbf{w},b}(\\mathbf{x}^{(i)}) = g(\\mathbf{w} \\cdot \\mathbf{x}^{(i)} + b) \\tag{1}$$\n",
    "\n",
    "  where $g(z)$ is known as the sigmoid function and it maps all input values to values between 0 and 1:\n",
    "\n",
    "  $$g(z) = \\frac{1}{1+e^{-z}}\\tag{2}$$\n",
    "\n",
    "  \n",
    "  and $\\mathbf{w} \\cdot \\mathbf{x}$ is the vector dot product:\n",
    "  \n",
    "  $$\\mathbf{w} \\cdot \\mathbf{x} = w_0 x_0 + w_1 x_1$$"
   ]
  },
  {
   "cell_type": "code",
   "execution_count": null,
   "id": "0b9908fb-9bd1-4e40-bd12-20e3f71a9947",
   "metadata": {},
   "outputs": [],
   "source": []
  },
  {
   "cell_type": "code",
   "execution_count": null,
   "id": "884eb723-ace3-4959-abbc-822869e79bc4",
   "metadata": {},
   "outputs": [],
   "source": []
  }
 ],
 "metadata": {
  "kernelspec": {
   "display_name": "Python 3 (ipykernel)",
   "language": "python",
   "name": "python3"
  },
  "language_info": {
   "codemirror_mode": {
    "name": "ipython",
    "version": 3
   },
   "file_extension": ".py",
   "mimetype": "text/x-python",
   "name": "python",
   "nbconvert_exporter": "python",
   "pygments_lexer": "ipython3",
   "version": "3.13.3"
  }
 },
 "nbformat": 4,
 "nbformat_minor": 5
}
