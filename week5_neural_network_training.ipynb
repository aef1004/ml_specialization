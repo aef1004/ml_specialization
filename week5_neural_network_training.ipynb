{
 "cells": [
  {
   "cell_type": "markdown",
   "id": "deeb0732-cf53-4976-b2d9-df3d2ba4f412",
   "metadata": {},
   "source": [
    "# Week 5: Neural Network Training\n",
    "\n",
    "- Neural network training\n",
    "- Activation functions\n",
    "- Multiclass classification (MNIST)\n",
    "- Softmax regression model for multiclass classification\n",
    "\n",
    "General Training Steps\n",
    "1. specifcy how to compute output given inpux x and parameters w, b to define model as fw,b(x)\n",
    "2. specifcy loss and cost L, J(w,b)\n",
    "3. train on data to minimize J(w,b)\n",
    "\n",
    "### Step 1 for neural networks\n",
    "\n",
    "model = Sequential([\n",
    "Dense(units = ...)\n",
    "Dense(...)\n",
    "])\n",
    "\n",
    "### Step 2\n",
    "Loss function examples\n",
    " - MeanSquaredError() for example if we're predicting numbers and not categoreis\n",
    " - BinaryCross() should only be used for classification with exactly 2 cases\n",
    " - SparseCategoricalCrossentropy() used for Softmax\n",
    "\n",
    "Implementation\n",
    "model.complie(loss = BinaryCrossentroypy(from_logits = True))\n",
    "\n",
    "from_logits = True fixes some rounding errors\n",
    "\n",
    "### Step 3\n",
    "model.fit(X,y, epochs = 100)\n",
    "\n",
    "\n",
    "**Activation functions**\n",
    "- Sigmoid g(z) = 1/(1+e^-z)\n",
    "    - typically used for binary classificatoin\n",
    "- Linear activation function g(z) = z\n",
    "    - if linear activation (with positive or negative values)\n",
    "- ReLu (rectified linear unit) g(z) = max(0,z)\n",
    "    - if y can only have positive values or 0\n",
    "    - most common to use in activation layers\n",
    "- Softmax(multiclass classification)\n",
    " \n",
    "*if all g(z) are linear, then it's no different from a linear regression\n",
    "\n",
    "\n",
    "Multiclass Classification (MNIST)\n",
    "example: trying to identify handwritten numbers 0-9\n",
    "Y can take on a set number of discrete numbers\n",
    "Can use Softmax\n",
    "\n",
    "Softmax\n",
    "z = w . x + b\n",
    "all possible z outputs (e^z1 / sum(all e^z)) should equal to 1\n",
    "if the final output layer has more than 1  "
   ]
  },
  {
   "cell_type": "code",
   "execution_count": null,
   "id": "f9d6bec1-cdf8-4949-8539-35f7704c1d5b",
   "metadata": {},
   "outputs": [],
   "source": []
  },
  {
   "cell_type": "code",
   "execution_count": null,
   "id": "56b6f17d-c802-4d4c-809e-7882ea8fa82d",
   "metadata": {},
   "outputs": [],
   "source": []
  },
  {
   "cell_type": "code",
   "execution_count": null,
   "id": "427143cf-e173-49f4-a10d-92334662e2c8",
   "metadata": {},
   "outputs": [],
   "source": []
  },
  {
   "cell_type": "code",
   "execution_count": null,
   "id": "7202c5cb-461b-461b-8593-f195acbc932e",
   "metadata": {},
   "outputs": [],
   "source": []
  }
 ],
 "metadata": {
  "kernelspec": {
   "display_name": "Python 3 (ipykernel)",
   "language": "python",
   "name": "python3"
  },
  "language_info": {
   "codemirror_mode": {
    "name": "ipython",
    "version": 3
   },
   "file_extension": ".py",
   "mimetype": "text/x-python",
   "name": "python",
   "nbconvert_exporter": "python",
   "pygments_lexer": "ipython3",
   "version": "3.13.3"
  }
 },
 "nbformat": 4,
 "nbformat_minor": 5
}
