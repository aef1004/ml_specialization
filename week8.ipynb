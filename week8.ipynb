{
 "cells": [
  {
   "cell_type": "markdown",
   "id": "8d14f36d-3fbc-4c99-b96b-69d6af711934",
   "metadata": {},
   "source": [
    "# Week 8: Clustering\n",
    "- Clustering\n",
    "- K-means \n",
    "\n",
    "\n",
    "## Clustering \n",
    "- finds similar datapoints\n",
    "- ex. market segmentation, grouping similar views, DNA analysis\n",
    "\n",
    "\n",
    "Step 1 - take a random guess at finding centers of cluster\n",
    "Step 2 - assign each point to its nearest centroid (calculate squared difference between point and each centroid and choose\n",
    "Step 3 - find average of each cluster and move centroid to that average \n",
    "Step 4 - interate through steps 2-4\n",
    "\n",
    "Cost function \n",
    "J(c1... cn) = (1/m) * sum(|xi - mu ci|^2)\n",
    "\n",
    "\n",
    "Choosing # of clusters (k)\n",
    "- Elbow method (K on x-axis, cost functtion on y-axis)\n",
    "- Evaluate based on how well different k clusters perform on later purpose"
   ]
  }
 ],
 "metadata": {
  "kernelspec": {
   "display_name": "Python 3 (ipykernel)",
   "language": "python",
   "name": "python3"
  },
  "language_info": {
   "codemirror_mode": {
    "name": "ipython",
    "version": 3
   },
   "file_extension": ".py",
   "mimetype": "text/x-python",
   "name": "python",
   "nbconvert_exporter": "python",
   "pygments_lexer": "ipython3",
   "version": "3.13.3"
  }
 },
 "nbformat": 4,
 "nbformat_minor": 5
}
